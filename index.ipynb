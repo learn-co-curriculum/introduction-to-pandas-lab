{
 "cells": [
  {
   "cell_type": "markdown",
   "metadata": {},
   "source": [
    " # Reading Data with Pandas"
   ]
  },
  {
   "cell_type": "markdown",
   "metadata": {},
   "source": [
    "## Introduction"
   ]
  },
  {
   "cell_type": "markdown",
   "metadata": {},
   "source": [
    "In this lab, we will be practicing using pandas to create a dataframe object from data we have in a csv file on *wine*! This will not only be a good opportunity for us to scout out a new bottle to try or to give as our next housewarming present, but it will also help us master dataframes and pandas! "
   ]
  },
  {
   "cell_type": "markdown",
   "metadata": {},
   "source": [
    "## Objectives\n",
    "* Importing Pandas\n",
    "* Creating a DataFrame\n",
    "* Reading a CSV"
   ]
  },
  {
   "cell_type": "markdown",
   "metadata": {},
   "source": [
    "## Instructions\n",
    "In this lab, we are going to work with a dataset on wines. It contains information on the name, type of grape, average rating, region the grapes are from, etc. Below, follow the instructions below to get the tests in `pytests/test_index` to pass. "
   ]
  },
  {
   "cell_type": "markdown",
   "metadata": {},
   "source": [
    "Below, import `pandas` and use it to read the csv file, `majestic_wine_data.csv`. Assign the variable `wine_data_from_csv` to the pandas dataframe object. \n",
    "> **Note:** While we can import pandas in different ways, in this lab we want to practice following the convention amongst data scientists. "
   ]
  },
  {
   "cell_type": "code",
   "execution_count": null,
   "metadata": {},
   "outputs": [],
   "source": [
    "# import pandas library here\n",
    "\n",
    "# assign pandas dataframe to wine_data_from_csv\n",
    "wine_data_from_csv = None\n",
    "\n",
    "print(wine_data_from_csv)"
   ]
  },
  {
   "cell_type": "markdown",
   "metadata": {},
   "source": [
    "Now, we might notice that the data has some information missing. This will happen sometimes with our datasets. So, to combat this problem, there is a method we can implement on our dataframe object called `fillna()`. It takes an argument, which is the value we would like to insert anywhere there is information missing from our dataframe. Use this method to fill any places in our dataframe that are missing values (i.e. `False` or `0`). This ensure that if we are attempting to operate on this data, we are always able to keep our data consistent and be sure the datatype we are operating on."
   ]
  },
  {
   "cell_type": "code",
   "execution_count": null,
   "metadata": {},
   "outputs": [],
   "source": [
    "# replace any empty spots with the value zero (0)\n",
    "# assign the updated dataframe to wine_data_without_na\n",
    "\n",
    "wine_data_without_na = None\n",
    "\n",
    "print(wine_data_without_na)"
   ]
  },
  {
   "cell_type": "markdown",
   "metadata": {},
   "source": [
    "Next, let's look at our data and see if it's in a state we can really use it. From what we can see above, it doesn't seem like it makes a lot of sense. Our wine data seems to be a bit fractured and all over the place. We want to have a list of dictionaries, where each dictionary has the same keys and points to each datapoint for its respective bottle of wine. This way, we can start to really look at our information and get it into a format where we can start to more effectively opperate on it (and find the best bottle of wine!)."
   ]
  },
  {
   "cell_type": "code",
   "execution_count": null,
   "metadata": {},
   "outputs": [],
   "source": [
    "# use the wine_data_without_na to create a list of dictionaries\n",
    "# where each dictionary contains all attributes and information for the respective bottle of wine\n",
    "# (i.e. [{bottle1}, {bottle2}, {bottle3}])\n",
    "\n",
    "list_of_wine_dicts = None\n",
    "\n",
    "print(list_of_wine_dicts)"
   ]
  },
  {
   "cell_type": "markdown",
   "metadata": {},
   "source": [
    "Now that we have our wine data in a format that is a bit easier for us to work with, let's start to operate on it. Add code to the following fuction definitions to get the return value indicated in the comments below. "
   ]
  },
  {
   "cell_type": "markdown",
   "metadata": {},
   "source": [
    "> **Hint:** The below methods are asking for a list of 5 wines based on rating or number of ratings... To **sort** the list of wines, try to make use of lambda functions and Python's **sorted()** function."
   ]
  },
  {
   "cell_type": "code",
   "execution_count": null,
   "metadata": {},
   "outputs": [],
   "source": [
    "# find_top_5_rated should return a list of the 5 highest rated wines\n",
    "def find_top_5_rated(list_of_wines):\n",
    "    # add code here\n",
    "    pass"
   ]
  },
  {
   "cell_type": "code",
   "execution_count": null,
   "metadata": {},
   "outputs": [],
   "source": [
    "# find_5_most_rated should return a list of the 5 wines with the highest number of ratings\n",
    "def find_5_most_rated(list_of_wines):\n",
    "    # add code here\n",
    "    pass"
   ]
  },
  {
   "cell_type": "markdown",
   "metadata": {},
   "source": [
    "## Summary"
   ]
  },
  {
   "cell_type": "markdown",
   "metadata": {},
   "source": [
    "Great work! In this lab, we practiced reading data from a csv file using the Pandas library. Remember to adhere to convention where it makes sense, like using a library or working on a codebase with other programmers. We also looked at using Pandas to fill in any blank values (`NaN`) in our data to make sure we would have consistent and easier data to work with, as well as guard against any bugs in our code. We then used pandas to format our data into a list of dictionaries so that we could more easily operate on it."
   ]
  }
 ],
 "metadata": {
  "kernelspec": {
   "display_name": "Python 3",
   "language": "python",
   "name": "python3"
  },
  "language_info": {
   "codemirror_mode": {
    "name": "ipython",
    "version": 3
   },
   "file_extension": ".py",
   "mimetype": "text/x-python",
   "name": "python",
   "nbconvert_exporter": "python",
   "pygments_lexer": "ipython3",
   "version": "3.6.5"
  }
 },
 "nbformat": 4,
 "nbformat_minor": 2
}
